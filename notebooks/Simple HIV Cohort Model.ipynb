{
 "cells": [
  {
   "cell_type": "code",
   "execution_count": 103,
   "metadata": {},
   "outputs": [],
   "source": [
    "import numpy as np, pandas as pd, matplotlib.pyplot as plt, seaborn as sns\n",
    "%matplotlib inline\n",
    "import vivarium, vivarium.test_util as vtu\n",
    "from vivarium.framework.event import listens_for\n",
    "from vivarium.framework.population import uses_columns"
   ]
  },
  {
   "cell_type": "code",
   "execution_count": 265,
   "metadata": {
    "collapsed": true
   },
   "outputs": [],
   "source": [
    "n_simulants = 1500\n",
    "n_days = 365\n",
    "t_start = pd.Timestamp('2017-01-01')\n",
    "t_timestep = 1"
   ]
  },
  {
   "cell_type": "code",
   "execution_count": 270,
   "metadata": {
    "scrolled": false
   },
   "outputs": [],
   "source": [
    "class HIVCohortFollowUp:\n",
    "    def __init__(self):\n",
    "        self.reports = {}\n",
    "    \n",
    "    @listens_for('initialize_simulants')\n",
    "    @uses_columns(['state', 'next_appointment', 'first_visit','follow_up_duration'])\n",
    "    def initialize(self, event):\n",
    "        # create the population dataframe\n",
    "        population = pd.DataFrame(index=event.index)\n",
    "        population['state'] = 'Out' #Followed, LTFU, Dead,   \n",
    "        population['next_appointment'] = pd.NaT\n",
    "        population['follow_up_duration'] = 0\n",
    "        \n",
    "        # Give first visit\n",
    "        first_visit = np.round(np.random.uniform(0, 365, n_simulants))\n",
    "        population['first_visit'] = t_start + pd.to_timedelta(first_visit, 'D')\n",
    "        \n",
    "        # Give first follow up\n",
    "        rows = np.random.binomial(1, 0.5, size=len(population))\n",
    "        population['next_appointment'] = population['first_visit'] + pd.Timedelta(days=7*4)\n",
    "        \n",
    "        population.loc[population['first_visit'] == t_start , 'state'] = 'Followed'\n",
    "        \n",
    "        # update the population in the model\n",
    "        event.population_view.update(population)\n",
    "        \n",
    "        \n",
    "    @listens_for('time_step')\n",
    "    @uses_columns(['state', 'first_visit'], 'state == \"Out\"')\n",
    "    def new_patients(self, event):\n",
    "        df = event.population\n",
    "        df.loc[df['first_visit'] == event.time, 'state'] = 'Followed'\n",
    "        \n",
    "        event.population_view.update(df)\n",
    "        \n",
    "    @listens_for('time_step')\n",
    "    @uses_columns(['state', 'next_appointment'], 'state != \"Out\"')\n",
    "    def next_appointment(self, event):\n",
    "        df = event.population\n",
    "        df.visit_delay = (event.time - df['next_appointment'])/ np.timedelta64(1, 'D')\n",
    "        \n",
    "        \n",
    "        # For now : probability of patient coming to visit only depends on wether he is late or early\n",
    "        # IF early : p = .05 , IF late : p = .8, IF on day of : p = 0.95\n",
    "        early = df[df.visit_delay < 0]\n",
    "        visit = np.random.binomial(1, 0.001, size=len(early))\n",
    "        visitors = list(early.index[visit == 1])\n",
    "        \n",
    "        on_time =  df[df.visit_delay == 0]\n",
    "        visit = np.random.binomial(1, 0.8, size=len(on_time))\n",
    "        visitors = visitors + list(on_time.index[visit == 1])\n",
    "        \n",
    "        late = df[df.visit_delay > 0]\n",
    "        visit = np.random.binomial(1, 0.001, size=len(late))\n",
    "        visitors = visitors + list(late.index[visit == 1])\n",
    "        \n",
    "        \n",
    "        \n",
    "        df.loc[visitors, 'next_appointment'] = event.time + pd.Timedelta(days=7*4)\n",
    "        \n",
    "        df.visit_delay = (event.time - df['next_appointment'])/ np.timedelta64(1, 'D')\n",
    "        df.loc[df.visit_delay > 90 , 'state'] = 'LTFU'\n",
    "        df.loc[df.visit_delay <= 90 , 'state'] = 'Followed'\n",
    "        \n",
    "        event.population_view.update(df)\n",
    "        \n",
    "    @listens_for('time_step')\n",
    "    @uses_columns(['state'], 'state != \"Out\"')\n",
    "    def export_report_datapoint(self, event):\n",
    "        date = event.time\n",
    "        self.reports[date] = event.population.state.value_counts()"
   ]
  },
  {
   "cell_type": "code",
   "execution_count": 271,
   "metadata": {},
   "outputs": [
    {
     "data": {
      "application/vnd.jupyter.widget-view+json": {
       "model_id": "de6db64ea6484134a77cc7b220137c60"
      }
     },
     "metadata": {},
     "output_type": "display_data"
    },
    {
     "name": "stdout",
     "output_type": "stream",
     "text": [
      "Followed    1002\n",
      "LTFU         498\n",
      "Name: state, dtype: int64\n",
      "Followed    0.668\n",
      "LTFU        0.332\n",
      "Name: state, dtype: float64\n"
     ]
    }
   ],
   "source": [
    "components = [HIVCohortFollowUp()]\n",
    "vtu.config.simulation_parameters.time_step = 1/365\n",
    "simulation = vtu.setup_simulation(components, population_size=n_simulants, start=t_start)\n",
    "vtu.pump_simulation(simulation, time_step_days=t_timestep, duration=pd.Timedelta(days=n_days))\n",
    "print(simulation.population.population.state.value_counts())\n",
    "print(simulation.population.population.state.value_counts() / len(simulation.population.population))"
   ]
  },
  {
   "cell_type": "code",
   "execution_count": 272,
   "metadata": {},
   "outputs": [],
   "source": [
    "report_out = pd.DataFrame.from_dict(components[0].reports , orient='index')"
   ]
  },
  {
   "cell_type": "code",
   "execution_count": 273,
   "metadata": {},
   "outputs": [
    {
     "data": {
      "text/plain": [
       "<matplotlib.axes._subplots.AxesSubplot at 0x11779f438>"
      ]
     },
     "execution_count": 273,
     "metadata": {},
     "output_type": "execute_result"
    },
    {
     "data": {
      "image/png": "[encoded data removed]",
      "text/plain": [
       "<matplotlib.figure.Figure at 0x1177ae9b0>"
      ]
     },
     "metadata": {},
     "output_type": "display_data"
    }
   ],
   "source": [
    "report_out.plot()"
   ]
  },
  {
   "cell_type": "code",
   "execution_count": null,
   "metadata": {
    "collapsed": true
   },
   "outputs": [],
   "source": []
  }
 ],
 "metadata": {
  "anaconda-cloud": {},
  "kernelspec": {
   "display_name": "Python 3",
   "language": "python",
   "name": "python3"
  },
  "language_info": {
   "codemirror_mode": {
    "name": "ipython",
    "version": 3
   },
   "file_extension": ".py",
   "mimetype": "text/x-python",
   "name": "python",
   "nbconvert_exporter": "python",
   "pygments_lexer": "ipython3",
   "version": "3.6.1"
  }
 },
 "nbformat": 4,
 "nbformat_minor": 1
}
