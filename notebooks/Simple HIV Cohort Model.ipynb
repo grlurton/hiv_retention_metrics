{
 "cells": [
  {
   "cell_type": "code",
   "execution_count": 1,
   "metadata": {},
   "outputs": [],
   "source": [
    "import numpy as np, pandas as pd, matplotlib.pyplot as plt, seaborn as sns\n",
    "%matplotlib inline\n",
    "import vivarium, vivarium.test_util as vtu\n",
    "from vivarium.framework.event import listens_for\n",
    "from vivarium.framework.population import uses_columns\n",
    "\n",
    "import pandas as pd\n",
    "import json"
   ]
  },
  {
   "cell_type": "code",
   "execution_count": 6,
   "metadata": {
    "collapsed": true
   },
   "outputs": [],
   "source": [
    "n_simulants = 1500\n",
    "n_days = 365\n",
    "t_start = pd.Timestamp('2017-01-01')\n",
    "t_timestep = 1\n",
    "with open('../data/processed/p_return.json') as data_file:    \n",
    "    return_rates = json.load(data_file)"
   ]
  },
  {
   "cell_type": "code",
   "execution_count": 17,
   "metadata": {
    "collapsed": true,
    "scrolled": false
   },
   "outputs": [],
   "source": [
    "class HIVCohortFollowUp:\n",
    "    def __init__(self , return_rates):\n",
    "        self.reports = {}\n",
    "        self.return_rates = return_rates\n",
    "    \n",
    "    @listens_for('initialize_simulants')\n",
    "    @uses_columns(['state', 'next_appointment', 'first_visit','follow_up_duration'])\n",
    "    def initialize(self, event):\n",
    "        # create the population dataframe\n",
    "        population = pd.DataFrame(index=event.index)\n",
    "        population['state'] = 'Out' #Followed, LTFU, Dead,   \n",
    "        population['next_appointment'] = pd.NaT\n",
    "        population['follow_up_duration'] = 0\n",
    "        \n",
    "        # Give first visit\n",
    "        first_visit = np.round(np.random.uniform(0, 365, n_simulants))\n",
    "        population['first_visit'] = t_start + pd.to_timedelta(first_visit, 'D')\n",
    "        \n",
    "        # Give first follow up\n",
    "        rows = np.random.binomial(1, 0.5, size=len(population))\n",
    "        population['next_appointment'] = population['first_visit'] + pd.Timedelta(days=7*4)\n",
    "        \n",
    "        population.loc[population['first_visit'] == t_start , 'state'] = 'Followed'\n",
    "        \n",
    "        # update the population in the model\n",
    "        event.population_view.update(population)\n",
    "        \n",
    "    @listens_for('time_step')\n",
    "    @uses_columns(['state', 'first_visit'], 'state == \"Out\"')\n",
    "    def new_patients(self, event):\n",
    "        df = event.population\n",
    "        df.loc[df['first_visit'] == event.time, 'state'] = 'Followed'\n",
    "        \n",
    "        event.population_view.update(df)\n",
    "        \n",
    "    @listens_for('time_step')\n",
    "    @uses_columns(['state', 'next_appointment'], 'state != \"Out\"')\n",
    "    def next_appointment(self, event):\n",
    "        df = event.population\n",
    "        df.visit_delay = (event.time - df['next_appointment'])/ np.timedelta64(1, 'D')\n",
    "        \n",
    "        ordered_change_times = sorted(list(map(int , self.return_rates.keys())))\n",
    "        \n",
    "        min_chunk = str(ordered_change_times[0])\n",
    "        chunk_1 = df[df.visit_delay <= float(min_chunk)]\n",
    "        visit = np.random.binomial(1, self.return_rates[min_chunk], size=len(chunk_1))\n",
    "        visitors = list(chunk_1.index[visit == 1])\n",
    "        \n",
    "        for i in range(1,len(ordered_change_times) - 1):\n",
    "            chunk = str(ordered_change_times[i])\n",
    "            chunk_i = df[(df.visit_delay > float(min_chunk)) & (df.visit_delay <= float(chunk))]\n",
    "            visit = np.random.binomial(1, self.return_rates[chunk], size=len(chunk_i))\n",
    "            visitors_i = list(chunk_i.index[visit == 1])\n",
    "            visitors = visitors + visitors_i\n",
    "            min_chunk = chunk\n",
    "            \n",
    "        max_chunk = str(ordered_change_times[len(ordered_change_times) - 1])\n",
    "        chunk_n = df[df.visit_delay > float(max_chunk)]\n",
    "        visit = np.random.binomial(1, self.return_rates[max_chunk], size=len(chunk_n))\n",
    "        visitors_n = list(chunk_n.index[visit == 1])\n",
    "        visitors = visitors + visitors_n\n",
    "        \n",
    "        df.loc[visitors, 'next_appointment'] = event.time + pd.Timedelta(days=7*4)\n",
    "        \n",
    "        df.visit_delay = (event.time - df['next_appointment'])/ np.timedelta64(1, 'D')\n",
    "        df.loc[df.visit_delay > 90 , 'state'] = 'LTFU'\n",
    "        df.loc[df.visit_delay <= 90 , 'state'] = 'Followed'\n",
    "        \n",
    "        event.population_view.update(df)\n",
    "        \n",
    "    @listens_for('time_step')\n",
    "    @uses_columns(['state'], 'state != \"Out\"')\n",
    "    def export_report_datapoint(self, event):\n",
    "        date = event.time\n",
    "        self.reports[date] = event.population.state.value_counts()"
   ]
  },
  {
   "cell_type": "code",
   "execution_count": 18,
   "metadata": {},
   "outputs": [
    {
     "data": {
      "application/vnd.jupyter.widget-view+json": {
       "model_id": "faccc3e2eeaa4e2ba05f19bd4e5ec123",
       "version_major": 2,
       "version_minor": 0
      },
      "text/plain": [
       "A Jupyter Widget"
      ]
     },
     "metadata": {},
     "output_type": "display_data"
    },
    {
     "data": {
      "text/plain": [
       "365"
      ]
     },
     "execution_count": 18,
     "metadata": {},
     "output_type": "execute_result"
    }
   ],
   "source": [
    "components = [HIVCohortFollowUp(return_rates)]\n",
    "vtu.config.simulation_parameters.time_step = 1/365\n",
    "simulation = vtu.setup_simulation(components, population_size=n_simulants, start=t_start)\n",
    "vtu.pump_simulation(simulation, time_step_days=t_timestep, duration=pd.Timedelta(days=n_days))"
   ]
  },
  {
   "cell_type": "code",
   "execution_count": 19,
   "metadata": {},
   "outputs": [
    {
     "name": "stdout",
     "output_type": "stream",
     "text": [
      "Followed    1254\n",
      "LTFU         246\n",
      "Name: state, dtype: int64\n",
      "Followed    0.836\n",
      "LTFU        0.164\n",
      "Name: state, dtype: float64\n"
     ]
    }
   ],
   "source": [
    "print(simulation.population.population.state.value_counts());\n",
    "print(simulation.population.population.state.value_counts() / len(simulation.population.population));"
   ]
  },
  {
   "cell_type": "code",
   "execution_count": 20,
   "metadata": {},
   "outputs": [
    {
     "data": {
      "text/plain": [
       "<matplotlib.axes._subplots.AxesSubplot at 0x2585737a6a0>"
      ]
     },
     "execution_count": 20,
     "metadata": {},
     "output_type": "execute_result"
    },
    {
     "data": {
      "image/png": "[encoded data removed]",
      "text/plain": [
       "<matplotlib.figure.Figure at 0x25857438d30>"
      ]
     },
     "metadata": {},
     "output_type": "display_data"
    }
   ],
   "source": [
    "report_out = pd.DataFrame.from_dict(components[0].reports , orient='index')\n",
    "report_out.plot()"
   ]
  }
 ],
 "metadata": {
  "anaconda-cloud": {},
  "kernelspec": {
   "display_name": "Python 3",
   "language": "python",
   "name": "python3"
  },
  "language_info": {
   "codemirror_mode": {
    "name": "ipython",
    "version": 3
   },
   "file_extension": ".py",
   "mimetype": "text/x-python",
   "name": "python",
   "nbconvert_exporter": "python",
   "pygments_lexer": "ipython3",
   "version": "3.6.2"
  }
 },
 "nbformat": 4,
 "nbformat_minor": 1
}
