{
 "cells": [
  {
   "cell_type": "code",
   "execution_count": 1,
   "metadata": {
    "collapsed": true
   },
   "outputs": [],
   "source": [
    "import numpy as np, pandas as pd, matplotlib.pyplot as plt, seaborn as sns\n",
    "%matplotlib inline\n",
    "import vivarium, vivarium.test_util as vtu\n",
    "from vivarium.framework.event import listens_for\n",
    "from vivarium.framework.population import uses_columns\n",
    "import pandas as pd\n",
    "import json"
   ]
  },
  {
   "cell_type": "code",
   "execution_count": 2,
   "metadata": {
    "collapsed": true
   },
   "outputs": [],
   "source": [
    "import os\n",
    "import sys\n",
    "module_path = os.path.abspath(os.path.join('../src'))\n",
    "if module_path not in sys.path:\n",
    "    sys.path.append(module_path)\n",
    "import models.cohort_analysis_function as caf"
   ]
  },
  {
   "cell_type": "code",
   "execution_count": 3,
   "metadata": {
    "collapsed": true
   },
   "outputs": [],
   "source": [
    "n_simulants = 1500\n",
    "n_days = 365\n",
    "t_start = pd.Timestamp('2017-01-01')\n",
    "t_timestep = 1\n",
    "with open('../data/processed/p_return.json') as data_file:    \n",
    "    return_rates = json.load(data_file)"
   ]
  },
  {
   "cell_type": "markdown",
   "metadata": {},
   "source": [
    "## Simulate the cohort"
   ]
  },
  {
   "cell_type": "code",
   "execution_count": 4,
   "metadata": {
    "collapsed": true,
    "scrolled": false
   },
   "outputs": [],
   "source": [
    "class HIVCohortFollowUp:\n",
    "    def __init__(self , return_rates):\n",
    "        self.reports = {}\n",
    "        self.return_rates = return_rates\n",
    "        self.current_database = pd.DataFrame({'visit_date':[] , 'next_visit_date':[] })\n",
    "    \n",
    "    @listens_for('initialize_simulants')\n",
    "    @uses_columns(['state', 'next_visit_date', 'first_visit','follow_up_duration'])\n",
    "    def initialize(self, event):\n",
    "        # create the population dataframe\n",
    "        population = pd.DataFrame(index=event.index)\n",
    "        population['state'] = 'Out' #Followed, LTFU, Dead,   \n",
    "        population['next_visit_date'] = pd.NaT\n",
    "        population['follow_up_duration'] = 0\n",
    "        \n",
    "        # Give first visit\n",
    "        first_visit = np.round(np.random.uniform(0, 365, n_simulants))\n",
    "        population['first_visit'] = t_start + pd.to_timedelta(first_visit, 'D')\n",
    "        \n",
    "        # Give first follow up\n",
    "        rows = np.random.binomial(1, 0.5, size=len(population))\n",
    "        population['next_visit_date'] = population['first_visit'] + pd.Timedelta(days=7*4)\n",
    "        \n",
    "        population.loc[population['first_visit'] == t_start , 'state'] = 'Followed'\n",
    "        \n",
    "        # update the population in the model\n",
    "        event.population_view.update(population)\n",
    "        \n",
    "    @listens_for('time_step')\n",
    "    @uses_columns(['state', 'first_visit', 'next_visit_date'], 'state == \"Out\"')\n",
    "    def new_patients(self, event):\n",
    "        df = event.population\n",
    "        df.loc[df['first_visit'] == event.time, 'state'] = 'Followed'\n",
    "        df.loc[df['first_visit'] == event.time, 'next_visit_date'] = event.time + pd.Timedelta(days=7*4)\n",
    "        n_new = len(df.loc[df['first_visit'] == event.time])\n",
    "        self.current_database = self.current_database.append(pd.DataFrame({'visit_date':[event.time]*n_new, \n",
    "                                                                          'next_visit_date':df.loc[df['first_visit'] == event.time, \n",
    "                                                                                                   'next_visit_date']} , \n",
    "                                                             index = df.index[df['first_visit'] == event.time]))\n",
    "        \n",
    "        event.population_view.update(df)\n",
    "        \n",
    "    @listens_for('time_step')\n",
    "    @uses_columns(['state', 'next_visit_date'], 'state != \"Out\"')\n",
    "    def next_appointment(self, event):\n",
    "        df = event.population\n",
    "        df.visit_delay = (event.time - df['next_visit_date'])/ np.timedelta64(1, 'D')\n",
    "        \n",
    "        ordered_change_times = sorted(list(map(int , self.return_rates.keys())))\n",
    "        \n",
    "        min_chunk = str(ordered_change_times[0])\n",
    "        chunk_1 = df[df.visit_delay <= float(min_chunk)]\n",
    "        visit = np.random.binomial(1, self.return_rates[min_chunk], size=len(chunk_1))\n",
    "        visitors = list(chunk_1.index[visit == 1])\n",
    "        \n",
    "        for i in range(1,len(ordered_change_times) - 1):\n",
    "            chunk = str(ordered_change_times[i])\n",
    "            chunk_i = df[(df.visit_delay > float(min_chunk)) & (df.visit_delay <= float(chunk))]\n",
    "            visit = np.random.binomial(1, self.return_rates[chunk], size=len(chunk_i))\n",
    "            visitors_i = list(chunk_i.index[visit == 1])\n",
    "            visitors = visitors + visitors_i\n",
    "            min_chunk = chunk\n",
    "            \n",
    "        max_chunk = str(ordered_change_times[len(ordered_change_times) - 1])\n",
    "        chunk_n = df[df.visit_delay > float(max_chunk)]\n",
    "        visit = np.random.binomial(1, self.return_rates[max_chunk], size=len(chunk_n))\n",
    "        visitors_n = list(chunk_n.index[visit == 1])\n",
    "        visitors = visitors + visitors_n\n",
    "        \n",
    "        n_visitors = len(visitors)\n",
    "        \n",
    "        df.loc[visitors, 'next_visit_date'] = event.time + pd.Timedelta(days=7*4)\n",
    "        if n_visitors > 0 :\n",
    "            self.current_database = self.current_database.append(\n",
    "                pd.DataFrame({'visit_date':[event.time]*n_visitors,\n",
    "                              'next_visit_date': df.loc[visitors, 'next_visit_date']} ,\n",
    "                             index = list(df.loc[visitors].index)))\n",
    "        \n",
    "        event.population_view.update(df)\n",
    "        \n",
    "    @listens_for('time_step')\n",
    "    @uses_columns(['state'], 'state != \"Out\"')\n",
    "    def export_report_datapoint(self, event):\n",
    "        date = event.time\n",
    "        self.reports[date] = event.population.state.value_counts()"
   ]
  },
  {
   "cell_type": "code",
   "execution_count": 5,
   "metadata": {},
   "outputs": [
    {
     "data": {
      "application/vnd.jupyter.widget-view+json": {
       "model_id": "f549bc8cd0ce4e0685df3fbd4bec2db8"
      }
     },
     "metadata": {},
     "output_type": "display_data"
    },
    {
     "data": {
      "text/plain": [
       "365"
      ]
     },
     "execution_count": 5,
     "metadata": {},
     "output_type": "execute_result"
    }
   ],
   "source": [
    "components = [HIVCohortFollowUp(return_rates)]\n",
    "vtu.config.simulation_parameters.time_step = 1/365\n",
    "simulation = vtu.setup_simulation(components, population_size=n_simulants, start=t_start)\n",
    "vtu.pump_simulation(simulation, time_step_days=t_timestep, duration=pd.Timedelta(days=n_days))"
   ]
  },
  {
   "cell_type": "markdown",
   "metadata": {},
   "source": [
    "## Simulate Data Entry"
   ]
  },
  {
   "cell_type": "code",
   "execution_count": 9,
   "metadata": {},
   "outputs": [
    {
     "name": "stdout",
     "output_type": "stream",
     "text": [
      "14.0\n"
     ]
    },
    {
     "data": {
      "image/png": "[encoded data removed]",
      "text/plain": [
       "<matplotlib.figure.Figure at 0x114d32eb8>"
      ]
     },
     "metadata": {},
     "output_type": "display_data"
    }
   ],
   "source": [
    "full_database = components[0].current_database.copy()\n",
    "\n",
    "weibull = np.random.weibull(.4, len(full_database))\n",
    "times = np.round(weibull*40)\n",
    "print(np.median(times))\n",
    "plt.hist(times , bins=10);"
   ]
  },
  {
   "cell_type": "code",
   "execution_count": 33,
   "metadata": {},
   "outputs": [],
   "source": [
    "def create_data_entry_date(data, delta):\n",
    "    data['delta'] = pd.to_timedelta(delta , 'days')\n",
    "    data['date_entered'] = data.visit_date + data.delta\n",
    "    data['patient_id']= full_database.index\n",
    "    data = data.reset_index()\n",
    "    data = data.groupby('patient_id').apply(caf.get_first_visit_date)\n",
    "    return data"
   ]
  },
  {
   "cell_type": "code",
   "execution_count": 46,
   "metadata": {},
   "outputs": [],
   "source": [
    "data1 = create_data_entry_date(full_database, 0)\n",
    "data2 = create_data_entry_date(full_database , times)"
   ]
  },
  {
   "cell_type": "code",
   "execution_count": 49,
   "metadata": {},
   "outputs": [],
   "source": [
    "data1['reasonDescEn'] = np.nan\n",
    "data2['reasonDescEn'] = np.nan\n",
    "data1['discDate'] = pd.NaT\n",
    "data2['discDate'] = pd.NaT"
   ]
  },
  {
   "cell_type": "code",
   "execution_count": 50,
   "metadata": {
    "collapsed": true
   },
   "outputs": [],
   "source": [
    "months_of_interest = ['2017-02-01', '2017-03-01', '2017-04-01', '2017-05-01', \n",
    "                      '2017-06-01', '2017-07-01', '2017-08-01', '2017-09-01', \n",
    "                      '2017-10-01', '2017-11-01', '2017-12-01', '2018-01-01']"
   ]
  },
  {
   "cell_type": "code",
   "execution_count": 60,
   "metadata": {
    "collapsed": true
   },
   "outputs": [],
   "source": [
    "def make_report_trail(data, months_of_interest):\n",
    "    months_reports = {}\n",
    "    for month in months_of_interest:\n",
    "        print(month)\n",
    "        out = data.groupby(data.patient_id).apply(caf.status_patient, reference_date = month,\n",
    "                                                analysis_date = month, grace_period = 90)\n",
    "        months_reports[month] = out.status.value_counts()\n",
    "    return pd.DataFrame.from_dict(months_reports, orient='index')"
   ]
  },
  {
   "cell_type": "code",
   "execution_count": 61,
   "metadata": {},
   "outputs": [
    {
     "name": "stdout",
     "output_type": "stream",
     "text": [
      "2017-02-01\n",
      "2017-03-01\n",
      "2017-04-01\n",
      "2017-05-01\n",
      "2017-06-01\n",
      "2017-07-01\n",
      "2017-08-01\n",
      "2017-09-01\n",
      "2017-10-01\n",
      "2017-11-01\n",
      "2017-12-01\n",
      "2018-01-01\n"
     ]
    }
   ],
   "source": [
    "report_1 = make_report_trail(data1, months_of_interest)"
   ]
  },
  {
   "cell_type": "code",
   "execution_count": 62,
   "metadata": {},
   "outputs": [
    {
     "name": "stdout",
     "output_type": "stream",
     "text": [
      "2017-02-01\n",
      "2017-03-01\n",
      "2017-04-01\n",
      "2017-05-01\n",
      "2017-06-01\n",
      "2017-07-01\n",
      "2017-08-01\n",
      "2017-09-01\n",
      "2017-10-01\n",
      "2017-11-01\n",
      "2017-12-01\n",
      "2018-01-01\n"
     ]
    }
   ],
   "source": [
    "report_2 = make_report_trail(data2, months_of_interest) "
   ]
  },
  {
   "cell_type": "code",
   "execution_count": 63,
   "metadata": {},
   "outputs": [],
   "source": [
    "complete_reports = report_1.merge(report_2, 'left', left_index = True , right_index=True , \n",
    "                                  suffixes=(' real', ' observed'))"
   ]
  },
  {
   "cell_type": "code",
   "execution_count": 64,
   "metadata": {},
   "outputs": [
    {
     "data": {
      "text/plain": [
       "<matplotlib.axes._subplots.AxesSubplot at 0x119844e48>"
      ]
     },
     "execution_count": 64,
     "metadata": {},
     "output_type": "execute_result"
    },
    {
     "data": {
      "image/png": "[encoded data removed]",
      "text/plain": [
       "<matplotlib.figure.Figure at 0x1184b16a0>"
      ]
     },
     "metadata": {},
     "output_type": "display_data"
    }
   ],
   "source": [
    "complete_reports.interpolate().plot()"
   ]
  },
  {
   "cell_type": "code",
   "execution_count": null,
   "metadata": {
    "collapsed": true
   },
   "outputs": [],
   "source": []
  }
 ],
 "metadata": {
  "anaconda-cloud": {},
  "kernelspec": {
   "display_name": "Python 3",
   "language": "python",
   "name": "python3"
  },
  "language_info": {
   "codemirror_mode": {
    "name": "ipython",
    "version": 3
   },
   "file_extension": ".py",
   "mimetype": "text/x-python",
   "name": "python",
   "nbconvert_exporter": "python",
   "pygments_lexer": "ipython3",
   "version": "3.6.1"
  }
 },
 "nbformat": 4,
 "nbformat_minor": 1
}
